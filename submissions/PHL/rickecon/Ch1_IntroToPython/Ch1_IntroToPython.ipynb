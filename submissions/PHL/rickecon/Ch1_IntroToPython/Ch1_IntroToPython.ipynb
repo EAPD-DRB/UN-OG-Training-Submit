{
 "cells": [
  {
   "cell_type": "markdown",
   "metadata": {},
   "source": [
    "# Exercises from Chapter 1, Introduction to Python\n",
    "### Richard W. Evans (rickecon)\n",
    "\n",
    "This Jupyter notebook contains my solutions to exercise 1.1 (problems 1-8 from the BYU ACME lab chapter \"[Introduction to Python](https://drive.google.com/file/d/1CHl8C-QKgs8jHzsRfJSMWkVqq0elzP1F/view)\") and to exercise 1.2 (problems 1-7 from the BYU ACME lab chapter \"[Unix Shell 1: Introduction](https://drive.google.com/file/d/18eTLp_FhWFYgAItIZnX6gesIvg91rXW5/view)\")."
   ]
  },
  {
   "cell_type": "markdown",
   "metadata": {},
   "source": [
    "## Exercise 1.1\n",
    "This exercise 1.1 includes problems 1-8 from the BYU ACME lab chapter \"[Introduction to Python](https://drive.google.com/file/d/1CHl8C-QKgs8jHzsRfJSMWkVqq0elzP1F/view)\"."
   ]
  },
  {
   "cell_type": "markdown",
   "metadata": {},
   "source": [
    "### Problem 1\n",
    "The file `python_intro.py` is saved in the same directory as this Jupyter notebook."
   ]
  },
  {
   "cell_type": "code",
   "execution_count": null,
   "metadata": {
    "vscode": {
     "languageId": "plaintext"
    }
   },
   "outputs": [],
   "source": [
    "!python python_intro.py"
   ]
  },
  {
   "cell_type": "markdown",
   "metadata": {},
   "source": [
    "## Exercise 1.2\n",
    "This exercise 1.2 includes problems 1-7 from the BYU ACME lab chapter \"[Unix Shell 1: Introduction](https://drive.google.com/file/d/18eTLp_FhWFYgAItIZnX6gesIvg91rXW5/view)\"."
   ]
  },
  {
   "cell_type": "markdown",
   "metadata": {},
   "source": []
  }
 ],
 "metadata": {
  "language_info": {
   "name": "python"
  }
 },
 "nbformat": 4,
 "nbformat_minor": 2
}
