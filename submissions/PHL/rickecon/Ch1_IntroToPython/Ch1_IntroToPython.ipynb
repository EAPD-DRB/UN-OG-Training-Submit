{
 "cells": [
  {
   "cell_type": "markdown",
   "metadata": {},
   "source": [
    "# Exercises from Chapter 1, Introduction to Python\n",
    "### Richard W. Evans (rickecon)\n",
    "\n",
    "This Jupyter notebook contains my solutions to exercise 1.1 (problems 1-8 from the BYU ACME lab chapter \"[Introduction to Python](https://drive.google.com/file/d/1CHl8C-QKgs8jHzsRfJSMWkVqq0elzP1F/view)\") and to exercise 1.2 (problems 1-7 from the BYU ACME lab chapter \"[Unix Shell 1: Introduction](https://drive.google.com/file/d/18eTLp_FhWFYgAItIZnX6gesIvg91rXW5/view)\"). For these problems, I use the `un-og-training-probs` conda environment, which I created from the [`environment_probs.yml`](https://github.com/EAPD-DRB/UN-OG-Training/blob/main/environment_probs.yml) file in the UN-OG-Training repository (https://github.com/EAPD-DRB/UN-OG-Training/blob/main/environment_probs.yml)."
   ]
  },
  {
   "cell_type": "markdown",
   "metadata": {},
   "source": [
    "## Exercise 1.1\n",
    "This exercise 1.1 includes problems 1-8 from the BYU ACME lab chapter \"[Introduction to Python](https://drive.google.com/file/d/1CHl8C-QKgs8jHzsRfJSMWkVqq0elzP1F/view)\"."
   ]
  },
  {
   "cell_type": "markdown",
   "metadata": {},
   "source": [
    "### Problem 1\n",
    "The file `python_intro.py` is saved in the same directory as this Jupyter notebook. This exercise asks you to execute a Python script from your terminal and to see if you get the correct output. To run a script from a Jupyter notebook as if you were in the terminal, type the following: `!python [scriptname].py`. The key is that the exclamation mark \"!\" at the beginning of the command tells Jupyter notebook to run whatever follows in the terminal."
   ]
  },
  {
   "cell_type": "code",
   "execution_count": 1,
   "metadata": {},
   "outputs": [
    {
     "name": "stdout",
     "output_type": "stream",
     "text": [
      "Hello, world!\n"
     ]
    }
   ],
   "source": [
    "!python python_intro.py"
   ]
  },
  {
   "cell_type": "markdown",
   "metadata": {},
   "source": [
    "### Problem 2\n",
    "The volume of a sphere with radius $r$ is $V =\\frac{4}{3}\\pi r^3$. In your Python file from Problem 1, define a function called `sphere_volume()` that accepts a single parameter $r$. Return the volume of the sphere of radius $r$, using 3.14159 as an approximation for $\\pi$ (for now). Also write an appropriate docstring for your function.\n",
    "\n",
    "To test your function, call it under the `if __name__ == \"__main__\"` clause and print the returned value. Run your file to see if your answer is what you expect it to be.\n",
    "\n",
    "To solve this problem, I created a new Python script `python_intro2.py` with the changes suggested in this problem."
   ]
  },
  {
   "cell_type": "code",
   "execution_count": 2,
   "metadata": {},
   "outputs": [
    {
     "name": "stdout",
     "output_type": "stream",
     "text": [
      "Set the value of radius to r = 3.7.\n",
      "The volume of a sphere with radius 3.7 is 212.17461102666667.\n"
     ]
    }
   ],
   "source": [
    "!python python_intro2.py"
   ]
  },
  {
   "cell_type": "markdown",
   "metadata": {},
   "source": [
    "### Problem 3"
   ]
  },
  {
   "cell_type": "code",
   "execution_count": 4,
   "metadata": {},
   "outputs": [
    {
     "name": "stdout",
     "output_type": "stream",
     "text": [
      "1     2     3 4 5\n"
     ]
    }
   ],
   "source": [
    "def isolate(v, w, x, y, z):\n",
    "    \"\"\"\n",
    "    This function takes 5 arguments, separates the first two by 5 spaces\n",
    "    (between v and w and between w and x) and separates the last three\n",
    "    arguments by one space each (between x and y and between y and z).\n",
    "    \"\"\"\n",
    "    print(\n",
    "        str(v) + \"     \" + str(w) + \"     \" + str(x) + \" \" + str(y) + \" \"\n",
    "        + str(z)\n",
    "    )\n",
    "\n",
    "\n",
    "isolate(1, 2, 3, 4, 5)"
   ]
  },
  {
   "cell_type": "markdown",
   "metadata": {},
   "source": [
    "### Problem 4"
   ]
  },
  {
   "cell_type": "code",
   "execution_count": null,
   "metadata": {},
   "outputs": [],
   "source": []
  },
  {
   "cell_type": "markdown",
   "metadata": {},
   "source": [
    "### Problem 5"
   ]
  },
  {
   "cell_type": "code",
   "execution_count": null,
   "metadata": {},
   "outputs": [],
   "source": []
  },
  {
   "cell_type": "markdown",
   "metadata": {},
   "source": [
    "### Problem 6"
   ]
  },
  {
   "cell_type": "code",
   "execution_count": null,
   "metadata": {},
   "outputs": [],
   "source": []
  },
  {
   "cell_type": "markdown",
   "metadata": {},
   "source": [
    "### Problem 7"
   ]
  },
  {
   "cell_type": "code",
   "execution_count": null,
   "metadata": {},
   "outputs": [],
   "source": []
  },
  {
   "cell_type": "markdown",
   "metadata": {},
   "source": [
    "### Problem 8"
   ]
  },
  {
   "cell_type": "code",
   "execution_count": null,
   "metadata": {},
   "outputs": [],
   "source": []
  },
  {
   "cell_type": "markdown",
   "metadata": {},
   "source": [
    "## Exercise 1.2 (OPTIONAL)\n",
    "This exercise 1.2 includes problems 1-7 from the BYU ACME lab chapter \"[Unix Shell 1: Introduction](https://drive.google.com/file/d/18eTLp_FhWFYgAItIZnX6gesIvg91rXW5/view)\". The two files used in the problems in this exercise are [unixshell1.sh](https://github.com/EAPD-DRB/UN-OG-Training/blob/main/code/UnixShell1/unixshell1.sh) and [Shell1.zip](https://github.com/EAPD-DRB/UN-OG-Training/blob/main/code/UnixShell1/Shell1.zip) and are stored in the [`UN-OG-Training/code/UnixShell1/`](https://github.com/EAPD-DRB/UN-OG-Training/tree/main/code/UnixShell1) directory of the UN-OG-Training repository."
   ]
  },
  {
   "cell_type": "markdown",
   "metadata": {},
   "source": [
    "### Problem 1"
   ]
  },
  {
   "cell_type": "code",
   "execution_count": null,
   "metadata": {},
   "outputs": [],
   "source": []
  },
  {
   "cell_type": "markdown",
   "metadata": {},
   "source": [
    "### Problem 2"
   ]
  },
  {
   "cell_type": "code",
   "execution_count": null,
   "metadata": {},
   "outputs": [],
   "source": []
  },
  {
   "cell_type": "markdown",
   "metadata": {},
   "source": [
    "### Problem 3"
   ]
  },
  {
   "cell_type": "code",
   "execution_count": null,
   "metadata": {},
   "outputs": [],
   "source": []
  },
  {
   "cell_type": "markdown",
   "metadata": {},
   "source": [
    "### Problem 4"
   ]
  },
  {
   "cell_type": "code",
   "execution_count": null,
   "metadata": {},
   "outputs": [],
   "source": []
  },
  {
   "cell_type": "markdown",
   "metadata": {},
   "source": [
    "### Problem 5"
   ]
  },
  {
   "cell_type": "code",
   "execution_count": null,
   "metadata": {},
   "outputs": [],
   "source": []
  },
  {
   "cell_type": "markdown",
   "metadata": {},
   "source": [
    "### Problem 6"
   ]
  },
  {
   "cell_type": "code",
   "execution_count": null,
   "metadata": {},
   "outputs": [],
   "source": []
  },
  {
   "cell_type": "markdown",
   "metadata": {},
   "source": [
    "### Problem 7"
   ]
  },
  {
   "cell_type": "code",
   "execution_count": null,
   "metadata": {},
   "outputs": [],
   "source": []
  }
 ],
 "metadata": {
  "kernelspec": {
   "display_name": "un-og-training-probs",
   "language": "python",
   "name": "python3"
  },
  "language_info": {
   "codemirror_mode": {
    "name": "ipython",
    "version": 3
   },
   "file_extension": ".py",
   "mimetype": "text/x-python",
   "name": "python",
   "nbconvert_exporter": "python",
   "pygments_lexer": "ipython3",
   "version": "3.11.10"
  }
 },
 "nbformat": 4,
 "nbformat_minor": 2
}
